{
  "nbformat": 4,
  "nbformat_minor": 0,
  "metadata": {
    "colab": {
      "name": "Loss Functions.ipynb",
      "provenance": []
    },
    "kernelspec": {
      "name": "python3",
      "display_name": "Python 3"
    },
    "language_info": {
      "name": "python"
    }
  },
  "cells": [
    {
      "cell_type": "markdown",
      "source": [
        "**Loss function implementation in Python**"
      ],
      "metadata": {
        "id": "kUaqD9ybzWoD"
      }
    },
    {
      "cell_type": "code",
      "execution_count": 1,
      "metadata": {
        "id": "oM6tLbkTzV55"
      },
      "outputs": [],
      "source": [
        "import numpy as np"
      ]
    },
    {
      "cell_type": "code",
      "source": [
        "y_pred = np.array([1,1,0,0,1])\n",
        "y_true = np.array([0.3,0.79,1,0,0.5])"
      ],
      "metadata": {
        "id": "QRmnL1wF0khP"
      },
      "execution_count": 12,
      "outputs": []
    },
    {
      "cell_type": "markdown",
      "source": [
        "Mean Abosolute Error"
      ],
      "metadata": {
        "id": "6P0VnJbV0rbZ"
      }
    },
    {
      "cell_type": "code",
      "source": [
        "def mae(y_pred,y_true):\n",
        "  error=0\n",
        "  for a,b in zip(y_pred,y_true):\n",
        "    error+=abs(a-b)\n",
        "  print(\"Error = \",error)\n",
        "  m=error/len(y_true)\n",
        "  print(\"MAE = \",m)\n",
        "  return m"
      ],
      "metadata": {
        "id": "o6fNcUb300cf"
      },
      "execution_count": 13,
      "outputs": []
    },
    {
      "cell_type": "code",
      "source": [
        "mae(y_pred,y_true)"
      ],
      "metadata": {
        "colab": {
          "base_uri": "https://localhost:8080/"
        },
        "id": "eJoNMEZz1iS3",
        "outputId": "ac7cb168-0803-4f34-e77e-b789e181662a"
      },
      "execution_count": 14,
      "outputs": [
        {
          "output_type": "stream",
          "name": "stdout",
          "text": [
            "Error =  2.41\n",
            "MAE =  0.48200000000000004\n"
          ]
        },
        {
          "output_type": "execute_result",
          "data": {
            "text/plain": [
              "0.48200000000000004"
            ]
          },
          "metadata": {},
          "execution_count": 14
        }
      ]
    },
    {
      "cell_type": "code",
      "source": [
        "def mae_np(y_pred,y_true):\n",
        "  return np.mean(np.abs(y_pred-y_true))"
      ],
      "metadata": {
        "id": "kIT3iLXJ1w9d"
      },
      "execution_count": 16,
      "outputs": []
    },
    {
      "cell_type": "code",
      "source": [
        "mae_np(y_pred,y_true)"
      ],
      "metadata": {
        "colab": {
          "base_uri": "https://localhost:8080/"
        },
        "id": "Dx1-45ly1-Dg",
        "outputId": "083913f1-e347-4a78-d87e-55b9f40f5032"
      },
      "execution_count": 17,
      "outputs": [
        {
          "output_type": "execute_result",
          "data": {
            "text/plain": [
              "0.48200000000000004"
            ]
          },
          "metadata": {},
          "execution_count": 17
        }
      ]
    },
    {
      "cell_type": "markdown",
      "source": [
        "Log Loss or Binary cross entropy"
      ],
      "metadata": {
        "id": "bvq_-Fy03If9"
      }
    },
    {
      "cell_type": "code",
      "source": [
        "eps=1e-15"
      ],
      "metadata": {
        "id": "UhsEY8d93N2r"
      },
      "execution_count": 22,
      "outputs": []
    },
    {
      "cell_type": "code",
      "source": [
        "y_pred_new=[max(i,eps) for i in y_pred]\n",
        "y_pred_new"
      ],
      "metadata": {
        "colab": {
          "base_uri": "https://localhost:8080/"
        },
        "id": "pdBdubok3z6x",
        "outputId": "e7b4b1b1-3113-4e8a-c684-300bcec71ac2"
      },
      "execution_count": 23,
      "outputs": [
        {
          "output_type": "execute_result",
          "data": {
            "text/plain": [
              "[1, 1, 1e-15, 1e-15, 1]"
            ]
          },
          "metadata": {},
          "execution_count": 23
        }
      ]
    },
    {
      "cell_type": "code",
      "source": [
        "y_pred_new=[min(i,1-eps) for i in y_pred_new]\n",
        "y_pred_new"
      ],
      "metadata": {
        "colab": {
          "base_uri": "https://localhost:8080/"
        },
        "id": "kpSG94RQ4HQx",
        "outputId": "5e47741b-d428-46b8-cb0a-0eb34f214d66"
      },
      "execution_count": 24,
      "outputs": [
        {
          "output_type": "execute_result",
          "data": {
            "text/plain": [
              "[0.999999999999999, 0.999999999999999, 1e-15, 1e-15, 0.999999999999999]"
            ]
          },
          "metadata": {},
          "execution_count": 24
        }
      ]
    },
    {
      "cell_type": "code",
      "source": [
        "y_pred_new=np.array(y_pred_new)"
      ],
      "metadata": {
        "id": "xV5GnEkz4Uf-"
      },
      "execution_count": 25,
      "outputs": []
    },
    {
      "cell_type": "code",
      "source": [
        "-np.mean(y_true*np.log(y_pred_new)+(1-y_true)*np.log(1-y_pred_new))"
      ],
      "metadata": {
        "colab": {
          "base_uri": "https://localhost:8080/"
        },
        "id": "Sy_l1dmY4puJ",
        "outputId": "9404afe4-7f2e-4bf3-d443-0c45a071f5db"
      },
      "execution_count": 26,
      "outputs": [
        {
          "output_type": "execute_result",
          "data": {
            "text/plain": [
              "16.64791570882226"
            ]
          },
          "metadata": {},
          "execution_count": 26
        }
      ]
    },
    {
      "cell_type": "code",
      "source": [
        "def log_loss(y_true, y_pred):\n",
        "    y_predicted_new = [max(i,eps) for i in y_pred]\n",
        "    y_predicted_new = [min(i,1-eps) for i in y_pred_new]\n",
        "    y_predicted_new = np.array(y_pred_new)\n",
        "    return -np.mean(y_true*np.log(y_pred_new)+(1-y_true)*np.log(1-y_pred_new))"
      ],
      "metadata": {
        "id": "hEKsNz3q44gT"
      },
      "execution_count": 27,
      "outputs": []
    },
    {
      "cell_type": "code",
      "source": [
        "log_loss(y_true, y_pred)"
      ],
      "metadata": {
        "colab": {
          "base_uri": "https://localhost:8080/"
        },
        "id": "tfoiSi3A5Bdv",
        "outputId": "c48ad9fd-70f4-4fb5-a15d-53e053841ac7"
      },
      "execution_count": 28,
      "outputs": [
        {
          "output_type": "execute_result",
          "data": {
            "text/plain": [
              "16.64791570882226"
            ]
          },
          "metadata": {},
          "execution_count": 28
        }
      ]
    },
    {
      "cell_type": "markdown",
      "source": [
        "Mean Square Error"
      ],
      "metadata": {
        "id": "o549GSLW5Moz"
      }
    },
    {
      "cell_type": "code",
      "source": [
        "np.mean(np.square(y_true-y_pred))"
      ],
      "metadata": {
        "colab": {
          "base_uri": "https://localhost:8080/"
        },
        "id": "r3JMN0wU5O_4",
        "outputId": "b1eb55cc-268f-4257-bbb5-b50542db3e29"
      },
      "execution_count": 29,
      "outputs": [
        {
          "output_type": "execute_result",
          "data": {
            "text/plain": [
              "0.35682"
            ]
          },
          "metadata": {},
          "execution_count": 29
        }
      ]
    },
    {
      "cell_type": "code",
      "source": [
        "def mse(y_pred,y_true):\n",
        "  error=0\n",
        "  for a,b in zip(y_pred,y_true):\n",
        "    error+=(a-b)**2\n",
        "  print(\"Error = \",error)\n",
        "  m=error/len(y_true)\n",
        "  print(\"MSE = \",m)\n",
        "  return m"
      ],
      "metadata": {
        "id": "XLrR7T-k5z5I"
      },
      "execution_count": 30,
      "outputs": []
    },
    {
      "cell_type": "code",
      "source": [
        "mse(y_pred,y_true)"
      ],
      "metadata": {
        "colab": {
          "base_uri": "https://localhost:8080/"
        },
        "id": "jNEB9rOi5-OP",
        "outputId": "dbb82d6a-8e2e-4799-d231-706822e6c884"
      },
      "execution_count": 31,
      "outputs": [
        {
          "output_type": "stream",
          "name": "stdout",
          "text": [
            "Error =  1.7841\n",
            "MSE =  0.35682\n"
          ]
        },
        {
          "output_type": "execute_result",
          "data": {
            "text/plain": [
              "0.35682"
            ]
          },
          "metadata": {},
          "execution_count": 31
        }
      ]
    }
  ]
}